{
 "cells": [
  {
   "cell_type": "code",
   "execution_count": 63,
   "metadata": {},
   "outputs": [],
   "source": [
    "import numpy as np "
   ]
  },
  {
   "cell_type": "code",
   "execution_count": 64,
   "metadata": {},
   "outputs": [
    {
     "data": {
      "text/plain": [
       "array([74., 74., 72., 72., 73.])"
      ]
     },
     "execution_count": 64,
     "metadata": {},
     "output_type": "execute_result"
    }
   ],
   "source": [
    "arr_height = np.loadtxt('D:\\\\baitapvandungchuong3\\\\heights_1.txt',delimiter=',',encoding='utf-8-sig')\n",
    "arr_height[:5]"
   ]
  },
  {
   "cell_type": "code",
   "execution_count": 65,
   "metadata": {},
   "outputs": [
    {
     "data": {
      "text/plain": [
       "dtype('float64')"
      ]
     },
     "execution_count": 65,
     "metadata": {},
     "output_type": "execute_result"
    }
   ],
   "source": [
    "arr_height.dtype"
   ]
  },
  {
   "cell_type": "code",
   "execution_count": 66,
   "metadata": {},
   "outputs": [
    {
     "data": {
      "text/plain": [
       "array([180., 215., 210., ..., 205., 190., 195.])"
      ]
     },
     "execution_count": 66,
     "metadata": {},
     "output_type": "execute_result"
    }
   ],
   "source": [
    "arr_weight = np.loadtxt('D:\\\\baitapvandungchuong3\\\\weights_1.txt',delimiter=',',encoding='utf-8-sig')\n",
    "arr_weight"
   ]
  },
  {
   "cell_type": "code",
   "execution_count": 67,
   "metadata": {},
   "outputs": [
    {
     "data": {
      "text/plain": [
       "dtype('float64')"
      ]
     },
     "execution_count": 67,
     "metadata": {},
     "output_type": "execute_result"
    }
   ],
   "source": [
    "arr_height.dtype"
   ]
  },
  {
   "cell_type": "code",
   "execution_count": 69,
   "metadata": {},
   "outputs": [
    {
     "data": {
      "text/plain": [
       "array([1.8796, 1.8796, 1.8288, 1.8288, 1.8542])"
      ]
     },
     "execution_count": 69,
     "metadata": {},
     "output_type": "execute_result"
    }
   ],
   "source": [
    "# Quy Đổi sang m\n",
    "arr_height_m = arr_height *0.0254\n",
    "arr_height_m[:5]"
   ]
  },
  {
   "cell_type": "code",
   "execution_count": 70,
   "metadata": {},
   "outputs": [
    {
     "data": {
      "text/plain": [
       "array([81.64656 , 97.52228 , 95.25432 , 95.25432 , 85.275296])"
      ]
     },
     "execution_count": 70,
     "metadata": {},
     "output_type": "execute_result"
    }
   ],
   "source": [
    "# Quy đỏi sang kg\n",
    "arr_weight_kg = arr_weight*0.453592\n",
    "arr_weight_kg[:5]"
   ]
  },
  {
   "cell_type": "code",
   "execution_count": 71,
   "metadata": {},
   "outputs": [
    {
     "data": {
      "text/plain": [
       "array([23.11037639, 27.60406069, 28.48080465, 28.48080465, 24.80333518])"
      ]
     },
     "execution_count": 71,
     "metadata": {},
     "output_type": "execute_result"
    }
   ],
   "source": [
    "arr_bmi = arr_weight_kg/(arr_height_m*arr_height_m)\n",
    "arr_bmi[:5]"
   ]
  },
  {
   "cell_type": "code",
   "execution_count": 72,
   "metadata": {},
   "outputs": [
    {
     "data": {
      "text/plain": [
       "np.float64(90.7184)"
      ]
     },
     "execution_count": 72,
     "metadata": {},
     "output_type": "execute_result"
    }
   ],
   "source": [
    "# cân nặng ở index thứ 50\n",
    "arr_weight_kg[50]"
   ]
  },
  {
   "cell_type": "code",
   "execution_count": 73,
   "metadata": {},
   "outputs": [
    {
     "data": {
      "text/plain": [
       "array([1.8542, 1.8796, 1.8288, 1.8542, 1.7526, 1.8288, 1.8542, 1.905 ,\n",
       "       1.905 , 1.8542, 1.8288])"
      ]
     },
     "execution_count": 73,
     "metadata": {},
     "output_type": "execute_result"
    }
   ],
   "source": [
    "arr_height_m_100 = arr_height_m[100:111]\n",
    "arr_height_m_100"
   ]
  },
  {
   "cell_type": "code",
   "execution_count": 74,
   "metadata": {},
   "outputs": [
    {
     "data": {
      "text/plain": [
       "array([20.54255679, 20.54255679, 20.69282047, 20.69282047, 20.34343189,\n",
       "       20.34343189, 20.69282047, 20.15883472, 19.4984471 , 20.69282047,\n",
       "       20.9205219 ])"
      ]
     },
     "execution_count": 74,
     "metadata": {},
     "output_type": "execute_result"
    }
   ],
   "source": [
    "# các cầu thủ có bmi <21\n",
    "bmi_under21 = arr_bmi[arr_bmi<21]\n",
    "bmi_under21"
   ]
  },
  {
   "cell_type": "code",
   "execution_count": 75,
   "metadata": {},
   "outputs": [
    {
     "name": "stdout",
     "output_type": "stream",
     "text": [
      "chiều cao trung bình của các cầu thủ là: 1.8717172413793102 m\n",
      "cân nặng trung bình của các cầu thủ là: 91.33019058916256 kg\n"
     ]
    }
   ],
   "source": [
    "print(\"chiều cao trung bình của các cầu thủ là:\",arr_height_m.mean(),'m')\n",
    "print(\"cân nặng trung bình của các cầu thủ là:\",arr_weight_kg.mean(),'kg')"
   ]
  },
  {
   "cell_type": "code",
   "execution_count": 76,
   "metadata": {},
   "outputs": [
    {
     "name": "stdout",
     "output_type": "stream",
     "text": [
      "chiều cao lớn nhất của các cầu thủ là: 2.1082 m\n",
      "cân nặng lớn nhất của các cầu thủ là: 131.54167999999999 kg\n"
     ]
    }
   ],
   "source": [
    "print(\"chiều cao lớn nhất của các cầu thủ là:\",arr_height_m.max(),'m')\n",
    "print(\"cân nặng lớn nhất của các cầu thủ là:\",arr_weight_kg.max(),'kg')"
   ]
  },
  {
   "cell_type": "code",
   "execution_count": 77,
   "metadata": {},
   "outputs": [
    {
     "name": "stdout",
     "output_type": "stream",
     "text": [
      "chiều cao nhỏ nhất của các cầu thủ là: 1.7018 m\n",
      "cân nặng nhỏ nhất của các cầu thủ là: 68.0388 kg\n"
     ]
    }
   ],
   "source": [
    "print(\"chiều cao nhỏ nhất của các cầu thủ là:\",arr_height_m.min(),'m')\n",
    "print(\"cân nặng nhỏ nhất của các cầu thủ là:\",arr_weight_kg.min(),'kg')"
   ]
  },
  {
   "cell_type": "code",
   "execution_count": null,
   "metadata": {},
   "outputs": [],
   "source": []
  }
 ],
 "metadata": {
  "kernelspec": {
   "display_name": "Python 3",
   "language": "python",
   "name": "python3"
  },
  "language_info": {
   "codemirror_mode": {
    "name": "ipython",
    "version": 3
   },
   "file_extension": ".py",
   "mimetype": "text/x-python",
   "name": "python",
   "nbconvert_exporter": "python",
   "pygments_lexer": "ipython3",
   "version": "3.13.0"
  }
 },
 "nbformat": 4,
 "nbformat_minor": 2
}
