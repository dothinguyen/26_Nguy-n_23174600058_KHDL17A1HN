{
 "cells": [
  {
   "cell_type": "code",
   "execution_count": 11,
   "metadata": {},
   "outputs": [],
   "source": [
    "import pandas as pd\n"
   ]
  },
  {
   "cell_type": "code",
   "execution_count": 12,
   "metadata": {},
   "outputs": [
    {
     "name": "stdout",
     "output_type": "stream",
     "text": [
      "     date  symbol   open   high    low  close  volume\n",
      "0   False   False  False  False  False  False   False\n",
      "1   False   False  False  False  False  False   False\n",
      "2   False   False  False  False  False  False   False\n",
      "3   False   False  False   True   True  False   False\n",
      "4   False   False  False  False  False  False   False\n",
      "5   False   False  False  False  False  False   False\n",
      "6   False   False  False  False  False  False   False\n",
      "7   False   False  False  False  False  False   False\n",
      "8   False   False  False  False  False  False   False\n",
      "9   False   False  False  False  False  False   False\n",
      "10  False   False  False  False  False  False   False\n",
      "11  False   False  False  False  False  False   False\n",
      "12  False   False  False   True   True  False   False\n",
      "13  False   False  False  False  False  False   False\n",
      "14  False   False  False  False  False  False   False\n"
     ]
    }
   ],
   "source": [
    "stocks1 = pd.read_csv(r'D:\\17A1KHDL\\LAB3\\DATA\\stocks1.csv')\n",
    "print(stocks1.isnull())"
   ]
  },
  {
   "cell_type": "code",
   "execution_count": 13,
   "metadata": {},
   "outputs": [
    {
     "data": {
      "text/plain": [
       "0     1674.260000\n",
       "1     1709.430000\n",
       "2     1707.800000\n",
       "3      943.511538\n",
       "4     1669.750000\n",
       "5      175.150000\n",
       "6      177.750000\n",
       "7      176.000000\n",
       "8      175.490000\n",
       "9      174.440000\n",
       "10    1142.970000\n",
       "11    1158.280000\n",
       "12     943.511538\n",
       "13    1167.570000\n",
       "14    1156.760000\n",
       "Name: high, dtype: float64"
      ]
     },
     "execution_count": 13,
     "metadata": {},
     "output_type": "execute_result"
    }
   ],
   "source": [
    "stocks1['high'] = stocks1['high'].fillna(stocks1['high'].mean())\n",
    "stocks1['high']"
   ]
  },
  {
   "cell_type": "code",
   "execution_count": 14,
   "metadata": {},
   "outputs": [
    {
     "data": {
      "text/plain": [
       "0     1651.000000\n",
       "1     1674.360000\n",
       "2     1689.010000\n",
       "3      926.775385\n",
       "4     1620.510000\n",
       "5      172.890000\n",
       "6      173.970000\n",
       "7      174.540000\n",
       "8      173.940000\n",
       "9      172.020000\n",
       "10    1124.750000\n",
       "11    1130.690000\n",
       "12     926.775385\n",
       "13    1155.490000\n",
       "14    1134.910000\n",
       "Name: low, dtype: float64"
      ]
     },
     "execution_count": 14,
     "metadata": {},
     "output_type": "execute_result"
    }
   ],
   "source": [
    "stocks1['low'] = stocks1['low'].fillna(stocks1['low'].mean())\n",
    "stocks1['low']"
   ]
  },
  {
   "cell_type": "code",
   "execution_count": 15,
   "metadata": {},
   "outputs": [
    {
     "name": "stdout",
     "output_type": "stream",
     "text": [
      "<class 'pandas.core.frame.DataFrame'>\n",
      "RangeIndex: 15 entries, 0 to 14\n",
      "Data columns (total 7 columns):\n",
      " #   Column  Non-Null Count  Dtype\n",
      "---  ------  --------------  -----\n",
      " 0   date    15 non-null     bool \n",
      " 1   symbol  15 non-null     bool \n",
      " 2   open    15 non-null     bool \n",
      " 3   high    15 non-null     bool \n",
      " 4   low     15 non-null     bool \n",
      " 5   close   15 non-null     bool \n",
      " 6   volume  15 non-null     bool \n",
      "dtypes: bool(7)\n",
      "memory usage: 237.0 bytes\n",
      "None\n"
     ]
    }
   ],
   "source": [
    "print(stocks1.isnull().info())"
   ]
  }
 ],
 "metadata": {
  "kernelspec": {
   "display_name": "base",
   "language": "python",
   "name": "python3"
  },
  "language_info": {
   "codemirror_mode": {
    "name": "ipython",
    "version": 3
   },
   "file_extension": ".py",
   "mimetype": "text/x-python",
   "name": "python",
   "nbconvert_exporter": "python",
   "pygments_lexer": "ipython3",
   "version": "3.12.4"
  }
 },
 "nbformat": 4,
 "nbformat_minor": 2
}
