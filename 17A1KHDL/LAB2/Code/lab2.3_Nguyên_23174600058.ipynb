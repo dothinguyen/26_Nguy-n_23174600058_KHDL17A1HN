{
 "cells": [
  {
   "cell_type": "code",
   "execution_count": 1,
   "metadata": {},
   "outputs": [],
   "source": [
    "import numpy as np "
   ]
  },
  {
   "cell_type": "code",
   "execution_count": 3,
   "metadata": {},
   "outputs": [
    {
     "name": "stdout",
     "output_type": "stream",
     "text": [
      "Dữ liệu của efficiency là:  int32\n",
      "Kiểu dữ liệu của shift là:  <U9\n"
     ]
    }
   ],
   "source": [
    "with open(r'D:\\17A1KHDL\\LAB2\\DATA\\efficiency.txt','r',encoding='utf-8-sig') as file:\n",
    "    lst = []\n",
    "    for i in file:\n",
    "        data = i.strip()\n",
    "        lst.append(data)\n",
    "efficiency = np.array(lst,dtype= int)\n",
    "print(\"Dữ liệu của efficiency là: \",efficiency.dtype)\n",
    "\n",
    "with open(r'D:\\17A1KHDL\\LAB2\\DATA\\shifts.txt','r',encoding='UTF-8') as file:\n",
    "    danhsach = []\n",
    "    for i in file:\n",
    "        data = i.strip().replace(' ','')\n",
    "        danhsach.append(data)\n",
    "shift = np.array(danhsach)\n",
    "print(\"Kiểu dữ liệu của shift là: \",shift.dtype)"
   ]
  },
  {
   "cell_type": "code",
   "execution_count": 12,
   "metadata": {},
   "outputs": [
    {
     "name": "stdout",
     "output_type": "stream",
     "text": [
      "Kiểu dữ liệu của np_efficiency: int32\n"
     ]
    }
   ],
   "source": [
    "np_efficiency = np.array(efficiency)\n",
    "print(\"Kiểu dữ liệu của np_efficiency:\", np_efficiency.dtype)\n"
   ]
  },
  {
   "cell_type": "code",
   "execution_count": 14,
   "metadata": {},
   "outputs": [
    {
     "name": "stdout",
     "output_type": "stream",
     "text": [
      "Hiệu suất sản xuất trung bình của những nhân viên ca sáng là:  96.8529411764706\n"
     ]
    }
   ],
   "source": [
    "morning =workers[workers['shift']=='Morning'] \n",
    "ca_sang = np.mean(morning['efficiency'])\n",
    "print(\"Hiệu suất sản xuất trung bình của những nhân viên ca sáng là: \",ca_sang)"
   ]
  },
  {
   "cell_type": "code",
   "execution_count": 16,
   "metadata": {},
   "outputs": [
    {
     "name": "stdout",
     "output_type": "stream",
     "text": [
      "Hiệu suất trung bình của những nhân viên làm việc trong ca khác là:  98.93939393939394\n"
     ]
    }
   ],
   "source": [
    "ca_khac = workers[workers['shift'] != 'Morning']\n",
    "hieu_suat_ca_khac = np.mean(ca_khac['efficiency'])\n",
    "print(\"Hiệu suất trung bình của những nhân viên làm việc trong ca khác là: \",hieu_suat_ca_khac) "
   ]
  },
  {
   "cell_type": "code",
   "execution_count": 26,
   "metadata": {},
   "outputs": [
    {
     "name": "stdout",
     "output_type": "stream",
     "text": [
      "Structure Array of workers: [('Afternoon',  94.) ('Afternoon',  97.) ('Afternoon', 114.)\n",
      " ('Morning', 117.) ('Afternoon', 117.) ('Night',  59.) ('Morning', 133.)\n",
      " ('Afternoon',  71.) ('Night',  86.) ('Morning', 137.) ('Night', 120.)\n",
      " ('Morning', 138.) ('Afternoon', 138.) ('Night',  62.) ('Night', 108.)\n",
      " ('Afternoon', 115.) ('Morning',  89.) ('Afternoon', 137.)\n",
      " ('Afternoon',  96.) ('Morning', 138.) ('Night', 131.) ('Night',  87.)\n",
      " ('Night',  75.) ('Night', 127.) ('Afternoon', 122.) ('Night',  59.)\n",
      " ('Night',  70.) ('Night', 130.) ('Night', 119.) ('Night', 129.)\n",
      " ('Morning',  97.) ('Afternoon', 114.) ('Night', 132.) ('Night', 149.)\n",
      " ('Afternoon', 138.) ('Night',  99.) ('Afternoon',  79.) ('Morning',  69.)\n",
      " ('Night',  69.) ('Night',  64.) ('Morning',  89.) ('Night',  82.)\n",
      " ('Morning', 115.) ('Morning',  59.) ('Night', 107.) ('Morning',  82.)\n",
      " ('Night',  81.) ('Night', 124.) ('Night',  73.) ('Morning',  85.)\n",
      " ('Morning', 125.) ('Morning', 105.) ('Afternoon',  78.) ('Night',  84.)\n",
      " ('Morning',  50.) ('Afternoon',  50.) ('Night',  86.) ('Night', 103.)\n",
      " ('Night',  55.) ('Afternoon',  88.) ('Morning',  67.) ('Morning', 129.)\n",
      " ('Morning',  54.) ('Morning',  92.) ('Night', 108.) ('Night',  81.)\n",
      " ('Morning',  51.) ('Morning', 115.) ('Morning',  91.) ('Afternoon', 107.)\n",
      " ('Night',  85.) ('Morning',  61.) ('Morning',  96.) ('Afternoon', 132.)\n",
      " ('Morning', 141.) ('Night',  50.) ('Afternoon',  64.) ('Afternoon', 149.)\n",
      " ('Afternoon', 103.) ('Morning',  62.) ('Morning',  92.) ('Morning', 134.)\n",
      " ('Afternoon', 125.) ('Afternoon', 118.) ('Night',  56.)\n",
      " ('Afternoon', 118.) ('Morning',  97.) ('Morning',  53.)\n",
      " ('Afternoon', 126.) ('Night', 102.) ('Afternoon', 128.)\n",
      " ('Afternoon',  65.) ('Afternoon',  70.) ('Morning', 149.)\n",
      " ('Morning', 108.) ('Morning',  73.) ('Afternoon', 129.) ('Night',  63.)\n",
      " ('Afternoon', 135.) ('Afternoon',  98.)]\n"
     ]
    }
   ],
   "source": [
    "dtype = [('shift','U9'),('efficiency',float)]\n",
    "workers = np.array(list(zip(shift,efficiency)),dtype= dtype)\n",
    "print(\"Structure Array of workers:\", workers)\n"
   ]
  },
  {
   "cell_type": "code",
   "execution_count": 27,
   "metadata": {},
   "outputs": [
    {
     "name": "stdout",
     "output_type": "stream",
     "text": [
      "Ca làm việc có hiệu suất cao nhất là: ('Night', 149.)\n",
      "Ca làm việc có hiệu suất thấp nhất là: ('Afternoon', 50.)\n"
     ]
    }
   ],
   "source": [
    "workers.sort(order= 'efficiency')\n",
    "print(\"Ca làm việc có hiệu suất cao nhất là:\",workers[-1])\n",
    "print(\"Ca làm việc có hiệu suất thấp nhất là:\",workers[0])"
   ]
  }
 ],
 "metadata": {
  "kernelspec": {
   "display_name": "base",
   "language": "python",
   "name": "python3"
  },
  "language_info": {
   "codemirror_mode": {
    "name": "ipython",
    "version": 3
   },
   "file_extension": ".py",
   "mimetype": "text/x-python",
   "name": "python",
   "nbconvert_exporter": "python",
   "pygments_lexer": "ipython3",
   "version": "3.12.4"
  }
 },
 "nbformat": 4,
 "nbformat_minor": 2
}
