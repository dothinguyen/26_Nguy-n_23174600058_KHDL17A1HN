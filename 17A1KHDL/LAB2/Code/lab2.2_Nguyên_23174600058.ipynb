{
 "cells": [
  {
   "cell_type": "code",
   "execution_count": 62,
   "metadata": {},
   "outputs": [],
   "source": [
    "import numpy as np\n"
   ]
  },
  {
   "cell_type": "markdown",
   "metadata": {},
   "source": [
    "#1.Đọc dữ liệu từ file CSV và chuyển đổi sang mảng NumPy"
   ]
  },
  {
   "cell_type": "code",
   "execution_count": 70,
   "metadata": {},
   "outputs": [
    {
     "data": {
      "text/plain": [
       "array([['id', 'Tên sinh viên', 'HP 1', 'HP 2', 'HP 3'],\n",
       "       ['1', 'Nguyễn Văn Bình', '3.04', '3.39', '6.7'],\n",
       "       ['2', 'Lê Thị Na', '5.8', '6.41', '6.62'],\n",
       "       ['3', 'Trần Văn Thành', '2.59', '3.57', '9.16'],\n",
       "       ['4', 'Phạm Thị Hồng', '3.81', '8.78', '9.24'],\n",
       "       ['5', 'Bùi Văn An', '8.91', '9.64', '6.39'],\n",
       "       ['6', 'Hoàng Thị Lan', '3.23', '4.72', '6.17'],\n",
       "       ['7', 'Vũ Văn Hùng', '2.35', '3.29', '6.89'],\n",
       "       ['8', 'Đặng Thị Mai', '2.48', '3.81', '4.84'],\n",
       "       ['9', 'Đỗ Văn Hải', '3.23', '2.61', '4.52'],\n",
       "       ['10', 'Ngô Thị Thanh', '7.02', '9.01', '9.15'],\n",
       "       ['11', 'Lương Văn Dũng', '2.29', '4.48', '5.51'],\n",
       "       ['12', 'Mai Thị Hằng', '3.51', '7.19', '5.13'],\n",
       "       ['13', 'Dương Văn Long', '6.74', '7.78', '6.19'],\n",
       "       ['14', 'Nguyễn Thị Hà', '9.86', '4.64', '3.33'],\n",
       "       ['15', 'Trần Văn Tuấn', '8.04', '5.12', '4.77'],\n",
       "       ['16', 'Lê Văn Phúc', '2.74', '8.88', '5.8'],\n",
       "       ['17', 'Phạm Thị Nhung', '3.04', '6.88', '3.91'],\n",
       "       ['18', 'Hoàng Văn Nam', '5.87', '4.41', '8.84'],\n",
       "       ['19', 'Bùi Thị Lan', '8.46', '2.63', '4.91'],\n",
       "       ['20', 'Vũ Thị Thanh', '3.74', '6.71', '3.44'],\n",
       "       ['21', 'Đặng Văn Hùng', '5.67', '8.05', '6.03'],\n",
       "       ['22', 'Đỗ Thị Hồng', '8.12', '2.46', '3.87'],\n",
       "       ['23', 'Ngô Văn Thành', '9.4', '5.31', '5.13'],\n",
       "       ['24', 'Lương Thị Mai', '3.91', '5.09', '8.82'],\n",
       "       ['25', 'Mai Văn Dũng', '4.26', '5.78', '8.14'],\n",
       "       ['26', 'Dương Thị Hằng', '4.41', '2.66', '5.4'],\n",
       "       ['27', 'Nguyễn Văn Long', '3.23', '8.3', '8.64'],\n",
       "       ['28', 'Trần Thị Hà', '9.25', '8.29', '9.1'],\n",
       "       ['29', 'Lê Văn Tuấn', '6.08', '2.67', '6.39'],\n",
       "       ['30', 'Phạm Thị Phúc', '3.85', '7.71', '5.75']], dtype='<U15')"
      ]
     },
     "execution_count": 70,
     "metadata": {},
     "output_type": "execute_result"
    }
   ],
   "source": [
    "with open(r'D:\\17A1KHDL\\LAB2\\DATA\\diem_hoc_phan.csv') as file:\n",
    "    lst = []\n",
    "    for i in file:\n",
    "        data = i. strip().split(',')\n",
    "        lst.append(data)\n",
    "diem = np.array(lst)\n",
    "diem\n",
    " \n"
   ]
  },
  {
   "cell_type": "code",
   "execution_count": 64,
   "metadata": {},
   "outputs": [],
   "source": [
    "diem[1:, 2:] = diem[1:, 2:].astype(float)"
   ]
  },
  {
   "cell_type": "code",
   "execution_count": 65,
   "metadata": {},
   "outputs": [
    {
     "data": {
      "text/plain": [
       "array([['id', 'Tên sinh viên', 'HP 1', 'HP 2', 'HP 3'],\n",
       "       ['1', 'Nguyễn Văn Bình', '3.04', '3.39', '6.7'],\n",
       "       ['2', 'Lê Thị Na', '5.8', '6.41', '6.62'],\n",
       "       ['3', 'Trần Văn Thành', '2.59', '3.57', '9.16'],\n",
       "       ['4', 'Phạm Thị Hồng', '3.81', '8.78', '9.24']], dtype='<U15')"
      ]
     },
     "execution_count": 65,
     "metadata": {},
     "output_type": "execute_result"
    }
   ],
   "source": [
    "diem[:5]\n"
   ]
  },
  {
   "cell_type": "code",
   "execution_count": 66,
   "metadata": {},
   "outputs": [
    {
     "data": {
      "text/plain": [
       "array([[3.04, 3.39, 6.7 ],\n",
       "       [5.8 , 6.41, 6.62],\n",
       "       [2.59, 3.57, 9.16],\n",
       "       [3.81, 8.78, 9.24],\n",
       "       [8.91, 9.64, 6.39]])"
      ]
     },
     "execution_count": 66,
     "metadata": {},
     "output_type": "execute_result"
    }
   ],
   "source": [
    "id_and_names = diem[1:, :2]\n",
    "data_numbers = diem[1:, 2:].astype(float)\n",
    "data_numbers[:5]"
   ]
  },
  {
   "cell_type": "code",
   "execution_count": 71,
   "metadata": {},
   "outputs": [
    {
     "data": {
      "text/plain": [
       "array([['F', 'F', 'C+'],\n",
       "       ['C', 'C', 'C+'],\n",
       "       ['F', 'F', 'A'],\n",
       "       ['F', 'A', 'A'],\n",
       "       ['A', 'A', 'C'],\n",
       "       ['F', 'D', 'C'],\n",
       "       ['F', 'F', 'C+'],\n",
       "       ['F', 'F', 'D'],\n",
       "       ['F', 'F', 'D'],\n",
       "       ['B', 'A', 'A'],\n",
       "       ['F', 'D', 'C'],\n",
       "       ['F', 'B', 'D+'],\n",
       "       ['C+', 'B', 'C'],\n",
       "       ['A', 'D', 'F'],\n",
       "       ['B+', 'D+', 'D'],\n",
       "       ['F', 'A', 'C'],\n",
       "       ['F', 'C+', 'F'],\n",
       "       ['C', 'D', 'A'],\n",
       "       ['B+', 'F', 'D'],\n",
       "       ['F', 'C+', 'F'],\n",
       "       ['C', 'B+', 'C'],\n",
       "       ['B+', 'F', 'F'],\n",
       "       ['A', 'D+', 'D+'],\n",
       "       ['F', 'D+', 'A'],\n",
       "       ['D', 'C', 'B+'],\n",
       "       ['D', 'F', 'D+'],\n",
       "       ['F', 'B+', 'A'],\n",
       "       ['A', 'B+', 'A'],\n",
       "       ['C', 'F', 'C'],\n",
       "       ['F', 'B', 'C']], dtype='<U2')"
      ]
     },
     "execution_count": 71,
     "metadata": {},
     "output_type": "execute_result"
    }
   ],
   "source": [
    "grades = np.where(data_numbers>=8.5,'A',\n",
    "         np.where(data_numbers>=8.0,'B+',\n",
    "         np.where(data_numbers>=7.0,'B',\n",
    "         np.where(data_numbers>=6.5,'C+',\n",
    "         np.where(data_numbers>=5.5,'C',\n",
    "         np.where(data_numbers>=5.0,'D+',\n",
    "         np.where(data_numbers>=4,'D','F')))))))\n",
    "grades"
   ]
  },
  {
   "cell_type": "markdown",
   "metadata": {},
   "source": [
    "#3. Chia Tách Dữ Liệu Theo Học Phần"
   ]
  },
  {
   "cell_type": "code",
   "execution_count": 74,
   "metadata": {},
   "outputs": [
    {
     "name": "stdout",
     "output_type": "stream",
     "text": [
      "Điểm HP 1: [3.04 5.8  2.59 3.81 8.91 3.23 2.35 2.48 3.23 7.02 2.29 3.51 6.74 9.86\n",
      " 8.04 2.74 3.04 5.87 8.46 3.74 5.67 8.12 9.4  3.91 4.26 4.41 3.23 9.25\n",
      " 6.08 3.85]\n",
      "Điểm HP 2: [3.39 6.41 3.57 8.78 9.64 4.72 3.29 3.81 2.61 9.01 4.48 7.19 7.78 4.64\n",
      " 5.12 8.88 6.88 4.41 2.63 6.71 8.05 2.46 5.31 5.09 5.78 2.66 8.3  8.29\n",
      " 2.67 7.71]\n",
      "Điểm HP 3: [6.7  6.62 9.16 9.24 6.39 6.17 6.89 4.84 4.52 9.15 5.51 5.13 6.19 3.33\n",
      " 4.77 5.8  3.91 8.84 4.91 3.44 6.03 3.87 5.13 8.82 8.14 5.4  8.64 9.1\n",
      " 6.39 5.75]\n"
     ]
    }
   ],
   "source": [
    "hp1 = diem[1:,2].astype(float)\n",
    "hp2 = diem[1:,3].astype(float)\n",
    "hp3 = diem[1:,4].astype(float)\n",
    "\n",
    "print(\"Điểm HP 1:\", hp1)\n",
    "print(\"Điểm HP 2:\", hp2)\n",
    "print(\"Điểm HP 3:\", hp3)\n"
   ]
  },
  {
   "cell_type": "markdown",
   "metadata": {},
   "source": [
    "#4. Phân Tích Dữ Liệu Theo Từng Học Phần"
   ]
  },
  {
   "cell_type": "code",
   "execution_count": 75,
   "metadata": {},
   "outputs": [
    {
     "name": "stdout",
     "output_type": "stream",
     "text": [
      "Học phần 1 có: \n",
      "Tổng điểm là:  154.93\n",
      "Trung bình là:  5.16\n",
      "Độ lệch chuẩn là:  2.41\n",
      "Học phần 2 có: \n",
      "Tổng điểm là:  170.27\n",
      "Trung bình là:  5.68\n",
      "Độ lệch chuẩn là:  2.25\n",
      "Học phần 3 có: \n",
      "Tổng điểm là:  188.78\n",
      "Trung bình là:  6.29\n",
      "Độ lệch chuẩn là:  1.81\n"
     ]
    }
   ],
   "source": [
    "def phan_tich(hp):\n",
    "    print(\"Tổng điểm là: \", np.round(np.sum(hp),2))\n",
    "    print(\"Trung bình là: \", np.round(np.mean(hp),2))\n",
    "    print(\"Độ lệch chuẩn là: \", np.round(np.std(hp),2))\n",
    "    return\n",
    "print(\"Học phần 1 có: \")\n",
    "phan_tich(hp1)\n",
    "print(\"Học phần 2 có: \")\n",
    "phan_tich(hp2)\n",
    "print(\"Học phần 3 có: \")\n",
    "phan_tich(hp3)"
   ]
  },
  {
   "cell_type": "markdown",
   "metadata": {},
   "source": [
    "#5. Phân Tích Điểm Tổng Hợp"
   ]
  },
  {
   "cell_type": "code",
   "execution_count": 77,
   "metadata": {},
   "outputs": [
    {
     "name": "stdout",
     "output_type": "stream",
     "text": [
      "Điểm A: 15 sinh viên\n",
      "Điểm B: 4 sinh viên\n",
      "Điểm B+: 7 sinh viên\n",
      "Điểm C: 14 sinh viên\n",
      "Điểm C+: 6 sinh viên\n",
      "Điểm D: 10 sinh viên\n",
      "Điểm D+: 6 sinh viên\n",
      "Điểm F: 28 sinh viên\n"
     ]
    }
   ],
   "source": [
    "unique, counts = np.unique(grades, return_counts=True)\n",
    "diem_chu = dict(zip(unique,counts))\n",
    "for grade, count in diem_chu.items():\n",
    "    print(f\"Điểm {grade}: {count} sinh viên\")"
   ]
  }
 ],
 "metadata": {
  "kernelspec": {
   "display_name": "base",
   "language": "python",
   "name": "python3"
  },
  "language_info": {
   "codemirror_mode": {
    "name": "ipython",
    "version": 3
   },
   "file_extension": ".py",
   "mimetype": "text/x-python",
   "name": "python",
   "nbconvert_exporter": "python",
   "pygments_lexer": "ipython3",
   "version": "3.12.4"
  }
 },
 "nbformat": 4,
 "nbformat_minor": 2
}
