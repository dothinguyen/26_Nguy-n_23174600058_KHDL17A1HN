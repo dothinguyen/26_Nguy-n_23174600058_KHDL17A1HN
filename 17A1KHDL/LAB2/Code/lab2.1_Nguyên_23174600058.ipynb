{
 "cells": [
  {
   "cell_type": "markdown",
   "metadata": {},
   "source": [
    "#1. Tạo dữ liệu mô phỏng nhiệt độ"
   ]
  },
  {
   "cell_type": "code",
   "execution_count": 1,
   "metadata": {},
   "outputs": [],
   "source": [
    "import numpy as np"
   ]
  },
  {
   "cell_type": "code",
   "execution_count": 7,
   "metadata": {},
   "outputs": [
    {
     "name": "stdout",
     "output_type": "stream",
     "text": [
      "Nhiệt độ hàng ngày trong tháng:\n",
      "[25.27 30.5  26.26 18.49 33.9  34.57 18.11 25.68 27.54 18.77 34.15 22.54\n",
      " 24.98 15.94 16.98 16.58 30.4  18.87 32.58 26.67 22.65 29.67 17.11 30.27\n",
      " 22.99 29.02 18.23 30.84 20.88 30.84]\n",
      "Nhiệt độ trung bình trong tháng: 25.04 °C\n"
     ]
    }
   ],
   "source": [
    "\n",
    "temperatures = np.random.uniform(15, 35, 30)\n",
    "temperatures = np.round(temperatures, 2)\n",
    "\n",
    "\n",
    "print(\"Nhiệt độ hàng ngày trong tháng:\")\n",
    "print(temperatures)\n",
    "\n",
    "average_temperature = np.mean(temperatures)\n",
    "average_temperature = round(average_temperature, 2)\n",
    "print(\"Nhiệt độ trung bình trong tháng:\", average_temperature, \"°C\")"
   ]
  },
  {
   "cell_type": "markdown",
   "metadata": {},
   "source": [
    "#2.Phân tích xu hướng nhiệt độ"
   ]
  },
  {
   "cell_type": "code",
   "execution_count": 8,
   "metadata": {},
   "outputs": [
    {
     "name": "stdout",
     "output_type": "stream",
     "text": [
      "Nhiệt độ cao nhất trong tháng: 34.57°C vào ngày 6\n",
      "Nhiệt độ thấp nhất trong tháng: 15.94°C vào ngày 14\n",
      "\n",
      "Sự chênh lệch nhiệt độ giữa các ngày:\n",
      "Ngày 2 - Ngày 1: 5.23°C\n",
      "Ngày 3 - Ngày 2: -4.239999999999998°C\n",
      "Ngày 4 - Ngày 3: -7.770000000000003°C\n",
      "Ngày 5 - Ngày 4: 15.41°C\n",
      "Ngày 6 - Ngày 5: 0.6700000000000017°C\n",
      "Ngày 7 - Ngày 6: -16.46°C\n",
      "Ngày 8 - Ngày 7: 7.57°C\n",
      "Ngày 9 - Ngày 8: 1.8599999999999994°C\n",
      "Ngày 10 - Ngày 9: -8.77°C\n",
      "Ngày 11 - Ngày 10: 15.379999999999999°C\n",
      "Ngày 12 - Ngày 11: -11.61°C\n",
      "Ngày 13 - Ngày 12: 2.4400000000000013°C\n",
      "Ngày 14 - Ngày 13: -9.040000000000001°C\n",
      "Ngày 15 - Ngày 14: 1.040000000000001°C\n",
      "Ngày 16 - Ngày 15: -0.40000000000000213°C\n",
      "Ngày 17 - Ngày 16: 13.82°C\n",
      "Ngày 18 - Ngày 17: -11.529999999999998°C\n",
      "Ngày 19 - Ngày 18: 13.709999999999997°C\n",
      "Ngày 20 - Ngày 19: -5.909999999999997°C\n",
      "Ngày 21 - Ngày 20: -4.020000000000003°C\n",
      "Ngày 22 - Ngày 21: 7.020000000000003°C\n",
      "Ngày 23 - Ngày 22: -12.560000000000002°C\n",
      "Ngày 24 - Ngày 23: 13.16°C\n",
      "Ngày 25 - Ngày 24: -7.280000000000001°C\n",
      "Ngày 26 - Ngày 25: 6.030000000000001°C\n",
      "Ngày 27 - Ngày 26: -10.79°C\n",
      "Ngày 28 - Ngày 27: 12.61°C\n",
      "Ngày 29 - Ngày 28: -9.96°C\n",
      "Ngày 30 - Ngày 29: 9.96°C\n",
      "\n",
      "Sự biến động nhiệt độ lớn nhất là 16.46°C vào ngày 7\n"
     ]
    }
   ],
   "source": [
    "\n",
    "max_temp = np.max(temperatures)\n",
    "min_temp = np.min(temperatures)\n",
    "\n",
    "\n",
    "max_day = np.argmax(temperatures) + 1  \n",
    "min_day = np.argmin(temperatures) + 1  \n",
    "\n",
    "print(f\"Nhiệt độ cao nhất trong tháng: {max_temp}°C vào ngày {max_day}\")\n",
    "print(f\"Nhiệt độ thấp nhất trong tháng: {min_temp}°C vào ngày {min_day}\")\n",
    "\n",
    "\n",
    "temp_diff = np.diff(temperatures)\n",
    "\n",
    "\n",
    "print(\"\\nSự chênh lệch nhiệt độ giữa các ngày:\")\n",
    "for i, diff in enumerate(temp_diff):\n",
    "    print(f\"Ngày {i+2} - Ngày {i+1}: {diff}°C\")\n",
    "\n",
    "\n",
    "temp_diff_abs = np.abs(temp_diff)\n",
    "\n",
    "\n",
    "max_diff_day = np.argmax(temp_diff_abs) + 2 \n",
    "max_diff_value = temp_diff_abs[max_diff_day - 2]\n",
    "\n",
    "print(f\"\\nSự biến động nhiệt độ lớn nhất là {max_diff_value}°C vào ngày {max_diff_day}\")"
   ]
  },
  {
   "cell_type": "markdown",
   "metadata": {},
   "source": [
    "#3.Áp dụng Fancy Indexing"
   ]
  },
  {
   "cell_type": "code",
   "execution_count": 9,
   "metadata": {},
   "outputs": [
    {
     "name": "stdout",
     "output_type": "stream",
     "text": [
      "Các ngày có nhiệt độ trên 20°C: [ 1  2  3  5  6  8  9 11 12 13 17 19 20 21 22 24 25 26 28 29 30]\n",
      "Nhiệt độ của các ngày 5, 10, 15, 20, 25: [33.9, 18.77, 16.98, 26.67, 22.99]\n",
      "Các ngày có nhiệt độ trên trung bình: [25.27 30.5  26.26 33.9  34.57 25.68 27.54 34.15 30.4  32.58 26.67 29.67\n",
      " 30.27 29.02 30.84 30.84]\n",
      "Nhiệt độ của các ngày chẵn trong tháng: [30.5  18.49 34.57 25.68 18.77 22.54 15.94 16.58 18.87 26.67 29.67 30.27\n",
      " 29.02 30.84 30.84]\n",
      "Nhiệt độ của các ngày lẻ trong tháng: [25.27 26.26 33.9  18.11 27.54 34.15 24.98 16.98 30.4  32.58 22.65 17.11\n",
      " 22.99 18.23 20.88]\n"
     ]
    }
   ],
   "source": [
    "\n",
    "days_above_20 = np.where(temperatures > 20)[0] + 1\n",
    "print(\"Các ngày có nhiệt độ trên 20°C:\", days_above_20)\n",
    "specific_days = [5, 10, 15, 20, 25]\n",
    "specific_temperatures = [temperatures[day - 1] for day in specific_days]  \n",
    "print(\"Nhiệt độ của các ngày 5, 10, 15, 20, 25:\", specific_temperatures)\n",
    "\n",
    "days_above_avg = temperatures[temperatures > average_temperature]\n",
    "print(\"Các ngày có nhiệt độ trên trung bình:\", days_above_avg)\n",
    "\n",
    "even_days_temperatures = temperatures[1::2]  \n",
    "print(\"Nhiệt độ của các ngày chẵn trong tháng:\", even_days_temperatures)\n",
    "\n",
    "odd_days_temperatures = temperatures[::2] \n",
    "print(\"Nhiệt độ của các ngày lẻ trong tháng:\", odd_days_temperatures)"
   ]
  }
 ],
 "metadata": {
  "kernelspec": {
   "display_name": "base",
   "language": "python",
   "name": "python3"
  },
  "language_info": {
   "codemirror_mode": {
    "name": "ipython",
    "version": 3
   },
   "file_extension": ".py",
   "mimetype": "text/x-python",
   "name": "python",
   "nbconvert_exporter": "python",
   "pygments_lexer": "ipython3",
   "version": "3.12.4"
  }
 },
 "nbformat": 4,
 "nbformat_minor": 2
}
