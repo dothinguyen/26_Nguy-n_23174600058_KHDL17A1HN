{
 "cells": [
  {
   "cell_type": "markdown",
   "metadata": {},
   "source": [
    "#1. Tạo dữ liệu mô phỏng nhiệt độ"
   ]
  },
  {
   "cell_type": "code",
   "execution_count": 1,
   "metadata": {},
   "outputs": [],
   "source": [
    "import numpy as np"
   ]
  },
  {
   "cell_type": "code",
   "execution_count": 2,
   "metadata": {},
   "outputs": [
    {
     "name": "stdout",
     "output_type": "stream",
     "text": [
      "Nhiệt độ hàng ngày trong tháng:\n",
      "[23.33 21.99 18.69 29.5  27.84 32.99 19.49 20.3  34.95 26.1  28.32 24.83\n",
      " 30.33 17.36 30.13 23.2  25.76 22.31 28.22 17.6  17.88 21.32 15.61 33.88\n",
      " 16.83 18.32 15.21 32.1  25.35 16.26]\n",
      "Nhiệt độ trung bình trong tháng: 23.87 °C\n"
     ]
    }
   ],
   "source": [
    "\n",
    "temperatures = np.random.uniform(15, 35, 30)\n",
    "temperatures = np.round(temperatures, 2)\n",
    "\n",
    "\n",
    "print(\"Nhiệt độ hàng ngày trong tháng:\")\n",
    "print(temperatures)\n",
    "\n",
    "average_temperature = np.mean(temperatures)\n",
    "average_temperature = round(average_temperature, 2)\n",
    "print(\"Nhiệt độ trung bình trong tháng:\", average_temperature, \"°C\")"
   ]
  },
  {
   "cell_type": "markdown",
   "metadata": {},
   "source": [
    "#2.Phân tích xu hướng nhiệt độ"
   ]
  },
  {
   "cell_type": "code",
   "execution_count": 3,
   "metadata": {},
   "outputs": [
    {
     "name": "stdout",
     "output_type": "stream",
     "text": [
      "Nhiệt độ cao nhất trong tháng: 34.95°C vào ngày 9\n",
      "Nhiệt độ thấp nhất trong tháng: 15.21°C vào ngày 27\n",
      "\n",
      "Sự chênh lệch nhiệt độ giữa các ngày:\n",
      "Ngày 2 - Ngày 1: -1.3399999999999999°C\n",
      "Ngày 3 - Ngày 2: -3.299999999999997°C\n",
      "Ngày 4 - Ngày 3: 10.809999999999999°C\n",
      "Ngày 5 - Ngày 4: -1.6600000000000001°C\n",
      "Ngày 6 - Ngày 5: 5.150000000000002°C\n",
      "Ngày 7 - Ngày 6: -13.500000000000004°C\n",
      "Ngày 8 - Ngày 7: 0.8100000000000023°C\n",
      "Ngày 9 - Ngày 8: 14.650000000000002°C\n",
      "Ngày 10 - Ngày 9: -8.850000000000001°C\n",
      "Ngày 11 - Ngày 10: 2.219999999999999°C\n",
      "Ngày 12 - Ngày 11: -3.490000000000002°C\n",
      "Ngày 13 - Ngày 12: 5.5°C\n",
      "Ngày 14 - Ngày 13: -12.969999999999999°C\n",
      "Ngày 15 - Ngày 14: 12.77°C\n",
      "Ngày 16 - Ngày 15: -6.93°C\n",
      "Ngày 17 - Ngày 16: 2.5600000000000023°C\n",
      "Ngày 18 - Ngày 17: -3.450000000000003°C\n",
      "Ngày 19 - Ngày 18: 5.91°C\n",
      "Ngày 20 - Ngày 19: -10.619999999999997°C\n",
      "Ngày 21 - Ngày 20: 0.2799999999999976°C\n",
      "Ngày 22 - Ngày 21: 3.4400000000000013°C\n",
      "Ngày 23 - Ngày 22: -5.710000000000001°C\n",
      "Ngày 24 - Ngày 23: 18.270000000000003°C\n",
      "Ngày 25 - Ngày 24: -17.050000000000004°C\n",
      "Ngày 26 - Ngày 25: 1.490000000000002°C\n",
      "Ngày 27 - Ngày 26: -3.1099999999999994°C\n",
      "Ngày 28 - Ngày 27: 16.89°C\n",
      "Ngày 29 - Ngày 28: -6.75°C\n",
      "Ngày 30 - Ngày 29: -9.09°C\n",
      "\n",
      "Sự biến động nhiệt độ lớn nhất là 18.270000000000003°C vào ngày 24\n"
     ]
    }
   ],
   "source": [
    "\n",
    "max_temp = np.max(temperatures)\n",
    "min_temp = np.min(temperatures)\n",
    "\n",
    "\n",
    "max_day = np.argmax(temperatures) + 1  \n",
    "min_day = np.argmin(temperatures) + 1  \n",
    "\n",
    "print(f\"Nhiệt độ cao nhất trong tháng: {max_temp}°C vào ngày {max_day}\")\n",
    "print(f\"Nhiệt độ thấp nhất trong tháng: {min_temp}°C vào ngày {min_day}\")\n",
    "\n",
    "\n",
    "temp_diff = np.diff(temperatures)\n",
    "\n",
    "\n",
    "print(\"\\nSự chênh lệch nhiệt độ giữa các ngày:\")\n",
    "for i, diff in enumerate(temp_diff):\n",
    "    print(f\"Ngày {i+2} - Ngày {i+1}: {diff}°C\")\n",
    "\n",
    "\n",
    "temp_diff_abs = np.abs(temp_diff)\n",
    "\n",
    "\n",
    "max_diff_day = np.argmax(temp_diff_abs) + 2 \n",
    "max_diff_value = temp_diff_abs[max_diff_day - 2]\n",
    "\n",
    "print(f\"\\nSự biến động nhiệt độ lớn nhất là {max_diff_value}°C vào ngày {max_diff_day}\")"
   ]
  },
  {
   "cell_type": "markdown",
   "metadata": {},
   "source": [
    "#3.Áp dụng Fancy Indexing"
   ]
  },
  {
   "cell_type": "code",
   "execution_count": 4,
   "metadata": {},
   "outputs": [
    {
     "name": "stdout",
     "output_type": "stream",
     "text": [
      "Các ngày có nhiệt độ trên 20°C: [ 1  2  4  5  6  8  9 10 11 12 13 15 16 17 18 19 22 24 28 29]\n",
      "Nhiệt độ của các ngày 5, 10, 15, 20, 25: [27.84, 26.1, 30.13, 17.6, 16.83]\n",
      "Các ngày có nhiệt độ trên trung bình: [29.5  27.84 32.99 34.95 26.1  28.32 24.83 30.33 30.13 25.76 28.22 33.88\n",
      " 32.1  25.35]\n",
      "Nhiệt độ của các ngày chẵn trong tháng: [21.99 29.5  32.99 20.3  26.1  24.83 17.36 23.2  22.31 17.6  21.32 33.88\n",
      " 18.32 32.1  16.26]\n",
      "Nhiệt độ của các ngày lẻ trong tháng: [23.33 18.69 27.84 19.49 34.95 28.32 30.33 30.13 25.76 28.22 17.88 15.61\n",
      " 16.83 15.21 25.35]\n"
     ]
    }
   ],
   "source": [
    "\n",
    "days_above_20 = np.where(temperatures > 20)[0] + 1\n",
    "print(\"Các ngày có nhiệt độ trên 20°C:\", days_above_20)\n",
    "specific_days = [5, 10, 15, 20, 25]\n",
    "specific_temperatures = [temperatures[day - 1] for day in specific_days]  \n",
    "print(\"Nhiệt độ của các ngày 5, 10, 15, 20, 25:\", specific_temperatures)\n",
    "\n",
    "days_above_avg = temperatures[temperatures > average_temperature]\n",
    "print(\"Các ngày có nhiệt độ trên trung bình:\", days_above_avg)\n",
    "\n",
    "even_days_temperatures = temperatures[1::2]  \n",
    "print(\"Nhiệt độ của các ngày chẵn trong tháng:\", even_days_temperatures)\n",
    "\n",
    "odd_days_temperatures = temperatures[::2] \n",
    "print(\"Nhiệt độ của các ngày lẻ trong tháng:\", odd_days_temperatures)"
   ]
  }
 ],
 "metadata": {
  "kernelspec": {
   "display_name": "base",
   "language": "python",
   "name": "python3"
  },
  "language_info": {
   "codemirror_mode": {
    "name": "ipython",
    "version": 3
   },
   "file_extension": ".py",
   "mimetype": "text/x-python",
   "name": "python",
   "nbconvert_exporter": "python",
   "pygments_lexer": "ipython3",
   "version": "3.12.4"
  }
 },
 "nbformat": 4,
 "nbformat_minor": 2
}
