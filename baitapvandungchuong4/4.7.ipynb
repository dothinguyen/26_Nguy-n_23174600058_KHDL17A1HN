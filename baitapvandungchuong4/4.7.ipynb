{
 "cells": [
  {
   "cell_type": "code",
   "execution_count": 1,
   "metadata": {},
   "outputs": [],
   "source": [
    "import pandas as pd\n",
    "import numpy as np"
   ]
  },
  {
   "cell_type": "code",
   "execution_count": 3,
   "metadata": {},
   "outputs": [],
   "source": [
    "np.random.RandomState(100)\n",
    "ser = pd.Series(np.random.randint(1, 5, [12]))"
   ]
  },
  {
   "cell_type": "code",
   "execution_count": 4,
   "metadata": {},
   "outputs": [
    {
     "name": "stdout",
     "output_type": "stream",
     "text": [
      "Dữ liệu ban đầu:\n",
      "0     3\n",
      "1     2\n",
      "2     3\n",
      "3     2\n",
      "4     1\n",
      "5     2\n",
      "6     4\n",
      "7     3\n",
      "8     3\n",
      "9     2\n",
      "10    2\n",
      "11    2\n",
      "dtype: int32\n",
      "\n",
      "Dữ liệu sau khi thay thế:\n",
      "0         3\n",
      "1         2\n",
      "2         3\n",
      "3         2\n",
      "4     other\n",
      "5         2\n",
      "6     other\n",
      "7         3\n",
      "8         3\n",
      "9         2\n",
      "10        2\n",
      "11        2\n",
      "dtype: object\n"
     ]
    }
   ],
   "source": [
    "value_counts = ser.value_counts()\n",
    "top_2_most_frequent = value_counts.nlargest(2).index\n",
    "ser_transformed = ser.apply(lambda x: x if x in top_2_most_frequent else 'other')\n",
    "print(\"Dữ liệu ban đầu:\")\n",
    "print(ser)\n",
    "print(\"\\nDữ liệu sau khi thay thế:\")\n",
    "print(ser_transformed)"
   ]
  }
 ],
 "metadata": {
  "kernelspec": {
   "display_name": "base",
   "language": "python",
   "name": "python3"
  },
  "language_info": {
   "codemirror_mode": {
    "name": "ipython",
    "version": 3
   },
   "file_extension": ".py",
   "mimetype": "text/x-python",
   "name": "python",
   "nbconvert_exporter": "python",
   "pygments_lexer": "ipython3",
   "version": "3.12.4"
  }
 },
 "nbformat": 4,
 "nbformat_minor": 2
}
