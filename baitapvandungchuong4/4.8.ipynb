{
 "cells": [
  {
   "cell_type": "code",
   "execution_count": 1,
   "metadata": {},
   "outputs": [],
   "source": [
    "import pandas as pd\n",
    "import numpy as np"
   ]
  },
  {
   "cell_type": "code",
   "execution_count": 2,
   "metadata": {},
   "outputs": [],
   "source": [
    "ser = pd.Series(np.random.random(20))"
   ]
  },
  {
   "cell_type": "code",
   "execution_count": 4,
   "metadata": {},
   "outputs": [
    {
     "name": "stdout",
     "output_type": "stream",
     "text": [
      "Dữ liệu ban đầu:\n",
      "0     0.122685\n",
      "1     0.262802\n",
      "2     0.761846\n",
      "3     0.496210\n",
      "4     0.450206\n",
      "5     0.667068\n",
      "6     0.046115\n",
      "7     0.140242\n",
      "8     0.368087\n",
      "9     0.142128\n",
      "10    0.774732\n",
      "11    0.979716\n",
      "12    0.230829\n",
      "13    0.090566\n",
      "14    0.972797\n",
      "15    0.523785\n",
      "16    0.855591\n",
      "17    0.047820\n",
      "18    0.581542\n",
      "19    0.934719\n",
      "dtype: float64\n",
      "\n",
      "Dữ liệu sau khi thay thế bằng phân vị:\n",
      "0      Decile 2\n",
      "1      Decile 4\n",
      "2      Decile 8\n",
      "3      Decile 6\n",
      "4      Decile 5\n",
      "5      Decile 7\n",
      "6      Decile 1\n",
      "7      Decile 3\n",
      "8      Decile 5\n",
      "9      Decile 3\n",
      "10     Decile 8\n",
      "11    Decile 10\n",
      "12     Decile 4\n",
      "13     Decile 2\n",
      "14    Decile 10\n",
      "15     Decile 6\n",
      "16     Decile 9\n",
      "17     Decile 1\n",
      "18     Decile 7\n",
      "19     Decile 9\n",
      "dtype: category\n",
      "Categories (10, object): ['Decile 1' < 'Decile 2' < 'Decile 3' < 'Decile 4' ... 'Decile 7' < 'Decile 8' < 'Decile 9' < 'Decile 10']\n"
     ]
    }
   ],
   "source": [
    "deciles = pd.qcut(ser, 10, labels=[f'Decile {i+1}' for i in range(10)])\n",
    "ser_deciles = deciles\n",
    "print(\"Dữ liệu ban đầu:\")\n",
    "print(ser)\n",
    "print(\"\\nDữ liệu sau khi thay thế bằng phân vị:\")\n",
    "print(ser_deciles)"
   ]
  }
 ],
 "metadata": {
  "kernelspec": {
   "display_name": "base",
   "language": "python",
   "name": "python3"
  },
  "language_info": {
   "codemirror_mode": {
    "name": "ipython",
    "version": 3
   },
   "file_extension": ".py",
   "mimetype": "text/x-python",
   "name": "python",
   "nbconvert_exporter": "python",
   "pygments_lexer": "ipython3",
   "version": "3.12.4"
  }
 },
 "nbformat": 4,
 "nbformat_minor": 2
}
