{
 "cells": [
  {
   "cell_type": "code",
   "execution_count": 1,
   "metadata": {},
   "outputs": [],
   "source": [
    "import pandas as pd\n",
    "import numpy as np"
   ]
  },
  {
   "cell_type": "code",
   "execution_count": 2,
   "metadata": {},
   "outputs": [],
   "source": [
    "ser = pd.Series(np.random.normal(10, 5, 25))"
   ]
  },
  {
   "cell_type": "markdown",
   "metadata": {},
   "source": [
    "# 1. Giá trị tối thiểu (minimum) của ser"
   ]
  },
  {
   "cell_type": "code",
   "execution_count": 3,
   "metadata": {},
   "outputs": [
    {
     "name": "stdout",
     "output_type": "stream",
     "text": [
      "Giá trị tối thiểu (minimum) của ser: 0.27825290787376744\n"
     ]
    }
   ],
   "source": [
    "min_value = ser.min()\n",
    "print(\"Giá trị tối thiểu (minimum) của ser:\", min_value)"
   ]
  },
  {
   "cell_type": "markdown",
   "metadata": {},
   "source": [
    "# 2. Phần centile thứ 25 (25th percentile) của ser"
   ]
  },
  {
   "cell_type": "code",
   "execution_count": 4,
   "metadata": {},
   "outputs": [
    {
     "name": "stdout",
     "output_type": "stream",
     "text": [
      "Phần centile thứ 25 (25th percentile) của ser: 8.27465928667953\n"
     ]
    }
   ],
   "source": [
    "percentile_25 = np.percentile(ser, 25)\n",
    "print(\"Phần centile thứ 25 (25th percentile) của ser:\", percentile_25)"
   ]
  },
  {
   "cell_type": "markdown",
   "metadata": {},
   "source": [
    "# 3. Trung vị (median) của ser"
   ]
  },
  {
   "cell_type": "code",
   "execution_count": 5,
   "metadata": {},
   "outputs": [
    {
     "name": "stdout",
     "output_type": "stream",
     "text": [
      "Trung vị (median) của ser: 10.731519215978041\n"
     ]
    }
   ],
   "source": [
    "median_value = ser.median()\n",
    "print(\"Trung vị (median) của ser:\", median_value)"
   ]
  },
  {
   "cell_type": "markdown",
   "metadata": {},
   "source": [
    "# 4. Phần centile thứ 75 (75th percentile) của ser"
   ]
  },
  {
   "cell_type": "code",
   "execution_count": 6,
   "metadata": {},
   "outputs": [
    {
     "name": "stdout",
     "output_type": "stream",
     "text": [
      "Phần centile thứ 75 (75th percentile) của ser: 14.432933326166168\n"
     ]
    }
   ],
   "source": [
    "percentile_75 = np.percentile(ser, 75)\n",
    "print(\"Phần centile thứ 75 (75th percentile) của ser:\", percentile_75)"
   ]
  },
  {
   "cell_type": "markdown",
   "metadata": {},
   "source": [
    "# 5. Giá trị tối đa (maximum) của ser"
   ]
  },
  {
   "cell_type": "code",
   "execution_count": 7,
   "metadata": {},
   "outputs": [
    {
     "name": "stdout",
     "output_type": "stream",
     "text": [
      "Giá trị tối đa (maximum) của ser: 18.436415128496023\n"
     ]
    }
   ],
   "source": [
    "max_value = ser.max()\n",
    "print(\"Giá trị tối đa (maximum) của ser:\", max_value)"
   ]
  }
 ],
 "metadata": {
  "kernelspec": {
   "display_name": "base",
   "language": "python",
   "name": "python3"
  },
  "language_info": {
   "codemirror_mode": {
    "name": "ipython",
    "version": 3
   },
   "file_extension": ".py",
   "mimetype": "text/x-python",
   "name": "python",
   "nbconvert_exporter": "python",
   "pygments_lexer": "ipython3",
   "version": "3.12.4"
  }
 },
 "nbformat": 4,
 "nbformat_minor": 2
}
