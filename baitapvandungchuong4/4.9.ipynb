{
 "cells": [
  {
   "cell_type": "markdown",
   "metadata": {},
   "source": [
    "# 1. Giải thích ý nghĩa mã lệnh trên\n",
    "# np.random.randint(1, 10, 35) là một hàm của NumPy để tạo ra một mảng chứa 35 giá trị ngẫu nhiên trong khoảng từ 1 đến 9 (vì hàm randint() lấy giá trị trong khoảng [low, high], tức là từ 1 đến 9).\n",
    "#        1 là giá trị bắt đầu (bao gồm).\n",
    "#        10 là giá trị kết thúc (không bao gồm).\n",
    "#        35 là số lượng phần tử cần tạo ra\n",
    "# pd.Series(...):Sau khi tạo ra mảng các số ngẫu nhiên, chúng ta chuyển mảng này thành một Series của pandas.pd.Series() sẽ tạo ra một đối tượng pandas Series chứa các giá trị từ mảng ngẫu nhiên, với chỉ số (index) mặc định là một chuỗi số nguyên từ 0 đến 34.\n",
    "# Mã lệnh trên sẽ tạo ra một pandas Series (ser) với 35 phần tử, mỗi phần tử là một số nguyên ngẫu nhiên từ 1 đến 9."
   ]
  },
  {
   "cell_type": "code",
   "execution_count": 1,
   "metadata": {},
   "outputs": [],
   "source": [
    "import pandas as pd\n",
    "import numpy as np"
   ]
  },
  {
   "cell_type": "code",
   "execution_count": 2,
   "metadata": {},
   "outputs": [],
   "source": [
    "ser = pd.Series(np.random.randint(1, 10, 35))"
   ]
  },
  {
   "cell_type": "code",
   "execution_count": 3,
   "metadata": {},
   "outputs": [
    {
     "name": "stdout",
     "output_type": "stream",
     "text": [
      "   0  1  2  3  4\n",
      "0  8  5  3  8  5\n",
      "1  6  2  1  5  3\n",
      "2  2  6  6  7  4\n",
      "3  3  5  6  1  9\n",
      "4  8  4  9  9  4\n",
      "5  5  7  2  3  9\n",
      "6  3  2  3  1  5\n"
     ]
    }
   ],
   "source": [
    "df = ser.values.reshape(7, 5)\n",
    "df = pd.DataFrame(df)\n",
    "print(df)"
   ]
  }
 ],
 "metadata": {
  "kernelspec": {
   "display_name": "base",
   "language": "python",
   "name": "python3"
  },
  "language_info": {
   "codemirror_mode": {
    "name": "ipython",
    "version": 3
   },
   "file_extension": ".py",
   "mimetype": "text/x-python",
   "name": "python",
   "nbconvert_exporter": "python",
   "pygments_lexer": "ipython3",
   "version": "3.12.4"
  }
 },
 "nbformat": 4,
 "nbformat_minor": 2
}
