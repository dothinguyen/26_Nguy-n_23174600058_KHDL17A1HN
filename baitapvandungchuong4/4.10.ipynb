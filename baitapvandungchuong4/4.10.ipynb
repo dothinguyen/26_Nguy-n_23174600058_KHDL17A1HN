{
 "cells": [
  {
   "cell_type": "code",
   "execution_count": 2,
   "metadata": {},
   "outputs": [],
   "source": [
    "import pandas as pd\n",
    "import numpy as np"
   ]
  },
  {
   "cell_type": "code",
   "execution_count": 3,
   "metadata": {},
   "outputs": [],
   "source": [
    "ser = pd.Series(np.random.randint(1, 10, 7))"
   ]
  },
  {
   "cell_type": "code",
   "execution_count": 4,
   "metadata": {},
   "outputs": [
    {
     "name": "stdout",
     "output_type": "stream",
     "text": [
      "Dữ liệu trong ser:\n",
      "0    7\n",
      "1    7\n",
      "2    3\n",
      "3    9\n",
      "4    9\n",
      "5    6\n",
      "6    3\n",
      "dtype: int32\n",
      "\n",
      "Vị trí của các số là bội của 3:\n",
      "Index([2, 3, 4, 5, 6], dtype='int64')\n"
     ]
    }
   ],
   "source": [
    "positions = ser[ser % 3 == 0].index\n",
    "print(\"Dữ liệu trong ser:\")\n",
    "print(ser)\n",
    "print(\"\\nVị trí của các số là bội của 3:\")\n",
    "print(positions)"
   ]
  }
 ],
 "metadata": {
  "kernelspec": {
   "display_name": "base",
   "language": "python",
   "name": "python3"
  },
  "language_info": {
   "codemirror_mode": {
    "name": "ipython",
    "version": 3
   },
   "file_extension": ".py",
   "mimetype": "text/x-python",
   "name": "python",
   "nbconvert_exporter": "python",
   "pygments_lexer": "ipython3",
   "version": "3.12.4"
  }
 },
 "nbformat": 4,
 "nbformat_minor": 2
}
