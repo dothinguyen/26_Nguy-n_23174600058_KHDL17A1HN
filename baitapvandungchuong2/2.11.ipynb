{
 "cells": [
  {
   "cell_type": "code",
   "execution_count": null,
   "metadata": {},
   "outputs": [
    {
     "name": "stdout",
     "output_type": "stream",
     "text": [
      "Tất cả giao dịch đã được ghi vào tệp 2024-10-12-19-29-24.json\n"
     ]
    }
   ],
   "source": [
    "import json\n",
    "import datetime\n",
    "\n",
    "class GiaoDich:\n",
    "    def __init__(self):\n",
    "        self.transactions = []  \n",
    "\n",
    "    def them_giao_dich(self, transaction_type, amount):\n",
    "        transaction = {\"type\": transaction_type, \"amount\": amount}\n",
    "        self.transactions.append(transaction) \n",
    "\n",
    "    def luu_giao_dich(self):\n",
    "        current_time = datetime.datetime.now()\n",
    "        file_name = current_time.strftime(\"%Y-%m-%d-%H-%M-%S\") + \".json\"\n",
    "\n",
    "        with open(file_name, 'w', encoding='utf-8') as file:\n",
    "            json.dump(self.transactions, file, ensure_ascii=False)\n",
    "        print(f\"Tất cả giao dịch đã được ghi vào tệp {file_name}\")\n",
    "\n",
    "def main():\n",
    "    quan_ly_giao_dich = GiaoDich()  \n",
    "    number_of_transactions = int(input(\"Nhập số giao dịch bạn muốn thực hiện: \"))\n",
    "\n",
    "    for _ in range(number_of_transactions):\n",
    "        transaction_type = input(\"Nhập loại giao dịch (tiền hoặc vàng): \")\n",
    "        amount = float(input(\"Nhập số tiền/giao dịch: \"))\n",
    "        quan_ly_giao_dich.them_giao_dich(transaction_type, amount)  \n",
    "\n",
    "    quan_ly_giao_dich.luu_giao_dich()\n",
    "\n",
    "if __name__ == \"__main__\":\n",
    "    main()\n"
   ]
  },
  {
   "cell_type": "code",
   "execution_count": null,
   "metadata": {},
   "outputs": [],
   "source": []
  }
 ],
 "metadata": {
  "kernelspec": {
   "display_name": "Python 3",
   "language": "python",
   "name": "python3"
  },
  "language_info": {
   "codemirror_mode": {
    "name": "ipython",
    "version": 3
   },
   "file_extension": ".py",
   "mimetype": "text/x-python",
   "name": "python",
   "nbconvert_exporter": "python",
   "pygments_lexer": "ipython3",
   "version": "3.12.7"
  }
 },
 "nbformat": 4,
 "nbformat_minor": 4
}
